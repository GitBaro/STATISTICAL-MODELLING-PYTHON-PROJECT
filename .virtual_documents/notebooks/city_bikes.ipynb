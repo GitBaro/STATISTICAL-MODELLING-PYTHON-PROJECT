





import pandas as pd
import numpy as np
import requests
import json
from IPython.display import JSON #for nice JSON (or dict) display in JupyterLab


# get network data
city_bike_networks = requests.get("http://api.citybik.es/v2/networks").json()

# save json as a file
with open('../data/networks.json', 'w') as f:
  json.dump(city_bike_networks, f)

# get info for dublinbikes
network_id = "dublinbikes"
network_json = requests.get("http://api.citybik.es/v2/networks/"+network_id).json()

# save json as a file 
with open('../data/dublin.json', 'w') as f:
  json.dump(network_json, f)


# checking how many stations dublin has. It has 114
len(network_json['network']['stations'])
network_json


dublin_stations = network_json['network']['stations']
dublin_stations[0]['extra']





# creating lists of values from the json, saving them into variables for the 
# name of the station, longitude, latitude, and number of bikes (slots)
names = [station['name'] for station in dublin_stations]
longitude = [station['longitude'] for station in dublin_stations]
latitude = [station['latitude'] for station in dublin_stations]
slots = [station['extra']['slots'] for station in dublin_stations]








# Putting the results from the list variables into a dataframe
df_dublin_stations = pd.DataFrame({'name' : names,
                                   'searched_longitude' : longitude,
                                   'searched_latitude' : latitude,
                                   'number of bikes' : slots})
df_dublin_stations.head()


# saving it into a csv
df_dublin_stations.to_csv('dublin_stations.csv')



