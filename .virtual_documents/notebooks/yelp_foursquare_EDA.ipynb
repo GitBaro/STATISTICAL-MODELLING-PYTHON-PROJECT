# imports
import pandas as pd
import numpy as np
from IPython.display import JSON
import requests
import json
import os
from tqdm import tqdm
from IPython.display import JSON #for nice JSON (or dict) display in JupyterLab








# loading the dublin stations data from the csv
df_dublin_stations = pd.read_csv('../data/dublin_stations.csv')
df_dublin_stations = df_dublin_stations.drop('Unnamed: 0', axis=1)
dublin_head = df_dublin_stations.head()
dublin_head


# Foursquare request for all the bike stations within a 1000m radius

def request_bike_stations(city_stations, radius):

    api_key = os.environ["FOURSQUARE_API_KEY"]
    url = "https://api.foursquare.com/v3/places/search"
    headers = {"accept": "application/json",
                  "authorization" : api_key}
    
    for latitude, longitude in city_stations[['latitude', 'longitude']].values:
        params = {'ll' : f'{latitude},{longitude}',
                  'radius' : int(radius), 
                  'limit' : 50}

        response = requests.get(url, headers=headers, params=params)
    return response

request_bike_stations(df_dublin_stations, 1000)











# Parsing through responses to get restaurant details

api_key = os.environ["FOURSQUARE_API_KEY"]
url = "https://api.foursquare.com/v3/places/search"
headers = {"accept": "application/json",
                "authorization" : api_key}

results = []

for latitude, longitude in df_dublin_stations[['latitude', 'longitude']].values:
    params = {'ll' : f'{latitude},{longitude}',
                'radius' : int(1000), 
                'categories' : '4d4b7105d754a06374d81259',
                'limit' : 50}
        
    response = requests.get(url, headers=headers, params=params)
    if response.status_code == 200:
        results.append({
            "response": response.json(),
            "searched_latitude": latitude,
            "searched_longitude": longitude
        })
    else:
        print(f"Request failed at {latitude},{longitude}: {response.status_code}")


JSON(results)



# appending all the important rows of important information into lists.

FS_POI = {
    "name" : [],
    "location" : [],
    "distance" : [],
    "searched_latitude" : [],
    "searched_longitude" : []
}

for i in results:
    places = i.get('response', {}).get('results', [])
    searched_latitude = i["searched_latitude"]
    searched_longitude = i["searched_longitude"]
    
    for place in places:
        name = place.get('name')
        location = place.get('location', {}).get('address') or place.get('location', {}).get('formatted_address')
        distance = place.get('distance')
    
        FS_POI["name"].append(name)
        FS_POI["location"].append(location)
        FS_POI["distance"].append(distance)
        FS_POI["searched_latitude"].append(searched_latitude)
        FS_POI["searched_longitude"].append(searched_longitude)



pd.DataFrame(FS_POI)





# making it a dataframe with the restaurant name, location(address) and distance from a bike station
fs_df = pd.DataFrame(FS_POI)
fs_df.to_csv('../data/fs_df.csv')








# Yelp request for all the bike stations within a 1000m radius

api_key = os.environ["YELP_API_KEY"]
headers = {
    "Authorization": f"Bearer {api_key}"
}
url = "https://api.yelp.com/v3/businesses/search"

results = []

for latitude, longitude in df_dublin_stations[['latitude', 'longitude']].values:
    params = {
        "latitude": latitude,
        "longitude": longitude,
        "radius": 1000,  # in meters (max 40000)
        "limit": 10      # max 50
    }
    # Get JSON response
    response = requests.get(url, headers=headers, params=params)

    if response.status_code == 200:
        results.append({
            "response": response.json(),
            "searched_latitude": latitude,
            "searched_longitude": longitude
        })
    else:
        print(f"Request failed at {latitude},{longitude}: {response.status_code}")


JSON(results)





Yelp_POI = {
    "name" : [],
    "location" : [],
    "rating" : [],
    "distance" : [],
    "review_count" : [],
    "price" : [],
    "searched_latitude" : [],
    "searched_longitude" : []
}

for i in results:
    businesses = i.get('response').get('businesses', [])
    searched_latitude = i["searched_latitude"]
    searched_longitude = i["searched_longitude"]
    
    for business in businesses:
        Yelp_POI["name"].append(business.get('name'))
        Yelp_POI["location"].append(business.get('location', {}).get('address1'))
        Yelp_POI["rating"].append(business.get('rating'))
        Yelp_POI["distance"].append(business.get('distance'))
        Yelp_POI["review_count"].append(business.get('review_count'))
        Yelp_POI["price"].append(business.get('price', None))  # in case price is missing
        Yelp_POI["searched_latitude"].append(searched_latitude)
        Yelp_POI["searched_longitude"].append(searched_longitude)


pd.DataFrame(Yelp_POI)





yelp_df = pd.DataFrame(Yelp_POI)
yelp_df.to_csv('yelp_df.csv')














top_unique = yelp_df.drop_duplicates(subset='name').sort_values(by='rating', ascending=False).head(10)
top_unique



