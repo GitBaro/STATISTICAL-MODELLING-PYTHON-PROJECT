


import pandas as pd
import numpy as np
import requests
import seaborn as sns
import json
from IPython.display import JSON #for nice JSON (or dict) display in JupyterLab


pd.read_csv('dublin_stations.csv')
df_dublin_stations = pd.read_csv('dublin_stations.csv')
df_dublin_stations = df_dublin_stations.drop('Unnamed: 0', axis=1)
df_dublin_stations


pd.read_csv('yelp_df.csv')
yelp_df = pd.read_csv('yelp_df.csv')
yelp_df = yelp_df.drop('Unnamed: 0', axis=1)
yelp_df


pd.read_csv('fs_df.csv')
fs_df = pd.read_csv('fs_df.csv')
fs_df = fs_df.drop('Unnamed: 0', axis=1)
fs_df


fs_merge = pd.merge(df_dublin_stations, fs_df, on=['searched_latitude', 'searched_longitude'])
fs_merge


yelp_merge = pd.merge(df_dublin_stations, yelp_df, on=['searched_latitude', 'searched_longitude'])
yelp_merge





sns.scatterplot(
    data=yelp_merge,
    x='searched_longitude',
    y='searched_latitude',
    hue='review_count')





sns.histplot(yelp_merge['rating'])














import sqlite3
from sqlite3 import Error


# Step 1: Connect to (or create) a SQLite database
conn = sqlite3.connect("citybikes.db")


# Step 2: Write the DataFrames to tables
df_dublin_stations.to_sql("dublin_stations", conn, index=False)
fs_df.to_sql("fs_df", conn, index=False)
fs_merge.to_sql("fs_merge", conn, index=False)
yelp_df.to_sql("yelp_df", conn, index=False)
yelp_merge.to_sql("yelp_merge", conn, index=False)


# Step 3: Confirm it's written by querying
cursor = conn.cursor()
cursor.execute("SELECT * FROM dublin_stations LIMIT 10")
rows = cursor.fetchall()
for row in rows:
    print(row)


cursor = conn.cursor()
cursor.execute("SELECT * FROM fs_df LIMIT 10")
rows = cursor.fetchall()
for row in rows:
    print(row)


cursor = conn.cursor()
cursor.execute("SELECT * FROM fs_merge LIMIT 10")
rows = cursor.fetchall()
for row in rows:
    print(row)


cursor = conn.cursor()
cursor.execute("SELECT * FROM yelp_df LIMIT 10")
rows = cursor.fetchall()
for row in rows:
    print(row)


cursor = conn.cursor()
cursor.execute("SELECT * FROM yelp_merge LIMIT 10")
rows = cursor.fetchall()
for row in rows:
    print(row)





# Original dublin city df
df_dublin_stations.head()


# Original foursquare and yelp poi dfs
fs_df.head()


yelp_df.head()


# merged foursquare df
fs_merge.head()


# merged yelp df
yelp_merge.head()



