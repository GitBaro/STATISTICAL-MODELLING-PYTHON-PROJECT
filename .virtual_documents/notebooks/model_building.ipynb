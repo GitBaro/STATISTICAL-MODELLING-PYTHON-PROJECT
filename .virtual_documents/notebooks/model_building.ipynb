


# import numpy
import numpy as np
import pandas as pd
# import linear_model and datasets from sklearn
from sklearn import linear_model, datasets
from sklearn.datasets import fetch_california_housing


pd.read_csv('yelp_merge.csv')
yelp_merge = pd.read_csv('yelp_merge.csv')
yelp_merge = yelp_merge.drop('Unnamed: 0', axis=1)
yelp_merge


y = yelp_merge['rating']
x = yelp_merge[['searched_latitude', 'searched_longitude', 'review_count']]


import statsmodels.api as sm


X = sm.add_constant(x) # adding a constant
lin_reg = sm.OLS(y,X)


model = lin_reg.fit()





print_model = model.summary()
print(print_model)















